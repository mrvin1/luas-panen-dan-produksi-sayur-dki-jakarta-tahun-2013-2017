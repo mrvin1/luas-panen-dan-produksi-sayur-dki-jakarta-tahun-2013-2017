{
  "nbformat": 4,
  "nbformat_minor": 0,
  "metadata": {
    "colab": {
      "name": "TK1_Machine_Learning.ipynb",
      "provenance": [],
      "collapsed_sections": []
    },
    "kernelspec": {
      "name": "python3",
      "display_name": "Python 3"
    },
    "language_info": {
      "name": "python"
    }
  },
  "cells": [
    {
      "cell_type": "markdown",
      "metadata": {
        "id": "1RvwG0JPpcD0"
      },
      "source": [
        "Input semua library yang diperlukan"
      ]
    },
    {
      "cell_type": "code",
      "metadata": {
        "id": "kEUp9nq8fy-l"
      },
      "source": [
        "import matplotlib.pyplot as plt\n",
        "import pandas as pd\n",
        "from sklearn import linear_model\n",
        "from sklearn.model_selection import train_test_split\n",
        "import seaborn as sb"
      ],
      "execution_count": null,
      "outputs": []
    },
    {
      "cell_type": "markdown",
      "metadata": {
        "id": "XXBnRtJmXVjC"
      },
      "source": [
        "panggil file"
      ]
    },
    {
      "cell_type": "code",
      "metadata": {
        "colab": {
          "base_uri": "https://localhost:8080/"
        },
        "id": "EuxgOKC2pbD-",
        "outputId": "cb44e6b2-5ec9-43eb-a2e7-2daefbf50ccc"
      },
      "source": [
        "data = pd.read_csv('data-luas-panen-dan-produksi-sayur-dki-jakarta-tahun-2013-2017.csv')\n",
        "print(data)"
      ],
      "execution_count": null,
      "outputs": [
        {
          "output_type": "stream",
          "text": [
            "    tahun   jenis_tanaman  luas_panen satuan_luas  produksi satuan_produksi\n",
            "0    2013           Bayam       557.0          Ha     957.0              Kw\n",
            "1    2013        Kangkung      1016.0          Ha    5057.0              Kw\n",
            "2    2013  Kacang Panjang         2.0          Ha       8.0              Kw\n",
            "3    2013         Ketimun         9.0          Ha      23.0              Kw\n",
            "4    2013          Terung         4.0          Ha      15.0              Kw\n",
            "5    2013            Sawi       440.0          Ha    3068.0              Kw\n",
            "6    2014           Bayam       558.0          Ha    2246.0              Kw\n",
            "7    2014        Kangkung       778.0          Ha    5272.0              Kw\n",
            "8    2014  Kacang Panjang         6.0          Ha       7.0              Kw\n",
            "9    2014         Ketimun        37.0          Ha      16.0              Kw\n",
            "10   2014          Terung         2.0          Ha       5.0              Kw\n",
            "11   2014            Sawi       407.0          Ha    2916.0              Kw\n",
            "12   2015           Bayam       710.0          Ha   56999.0              Kw\n",
            "13   2015        Kangkung      1062.0          Ha  102229.0              Kw\n",
            "14   2015  Kacang Panjang         4.0          Ha      16.0              Kw\n",
            "15   2015         Ketimun        14.0          Ha     226.0              Kw\n",
            "16   2015          Terung         NaN          Ha       NaN              Kw\n",
            "17   2015            Sawi       525.0          Ha   46886.0              Kw\n",
            "18   2016           Bayam       696.0          Ha   48428.0              Kw\n",
            "19   2016        Kangkung       913.0          Ha   66027.0              Kw\n",
            "20   2016  Kacang Panjang         1.0          Ha      20.0              Kw\n",
            "21   2016         Ketimun         5.0          Ha      20.0              Kw\n",
            "22   2016          Terung         5.0          Ha     160.0              Kw\n",
            "23   2016            Sawi       464.0          Ha   33965.0              Kw\n",
            "24   2017           Bayam       513.0          Ha   36125.0              Kw\n",
            "25   2017        Kangkung       751.0          Ha   58246.0              Kw\n",
            "26   2017  Kacang Panjang         NaN          Ha       NaN              Kw\n",
            "27   2017         Ketimun         3.0          Ha       6.0              Kw\n",
            "28   2017          Terung         1.0          Ha     170.0              Kw\n",
            "29   2017            Sawi       347.0          Ha   25962.0              Kw\n"
          ],
          "name": "stdout"
        }
      ]
    },
    {
      "cell_type": "markdown",
      "metadata": {
        "id": "wCDqVM5_XZ47"
      },
      "source": [
        "inisiasi variabel yang akan dipakai"
      ]
    },
    {
      "cell_type": "code",
      "metadata": {
        "id": "HLwv560kI9uR",
        "colab": {
          "base_uri": "https://localhost:8080/"
        },
        "outputId": "0f4f4ec2-3d4a-4f8a-e3c0-fe4ba8596d45"
      },
      "source": [
        "usageData = data[[\"tahun\", \"jenis_tanaman\", \"luas_panen\", \"produksi\"]]\n",
        "print(usageData)"
      ],
      "execution_count": null,
      "outputs": [
        {
          "output_type": "stream",
          "text": [
            "    tahun   jenis_tanaman  luas_panen  produksi\n",
            "0    2013           Bayam       557.0     957.0\n",
            "1    2013        Kangkung      1016.0    5057.0\n",
            "2    2013  Kacang Panjang         2.0       8.0\n",
            "3    2013         Ketimun         9.0      23.0\n",
            "4    2013          Terung         4.0      15.0\n",
            "5    2013            Sawi       440.0    3068.0\n",
            "6    2014           Bayam       558.0    2246.0\n",
            "7    2014        Kangkung       778.0    5272.0\n",
            "8    2014  Kacang Panjang         6.0       7.0\n",
            "9    2014         Ketimun        37.0      16.0\n",
            "10   2014          Terung         2.0       5.0\n",
            "11   2014            Sawi       407.0    2916.0\n",
            "12   2015           Bayam       710.0   56999.0\n",
            "13   2015        Kangkung      1062.0  102229.0\n",
            "14   2015  Kacang Panjang         4.0      16.0\n",
            "15   2015         Ketimun        14.0     226.0\n",
            "16   2015          Terung         NaN       NaN\n",
            "17   2015            Sawi       525.0   46886.0\n",
            "18   2016           Bayam       696.0   48428.0\n",
            "19   2016        Kangkung       913.0   66027.0\n",
            "20   2016  Kacang Panjang         1.0      20.0\n",
            "21   2016         Ketimun         5.0      20.0\n",
            "22   2016          Terung         5.0     160.0\n",
            "23   2016            Sawi       464.0   33965.0\n",
            "24   2017           Bayam       513.0   36125.0\n",
            "25   2017        Kangkung       751.0   58246.0\n",
            "26   2017  Kacang Panjang         NaN       NaN\n",
            "27   2017         Ketimun         3.0       6.0\n",
            "28   2017          Terung         1.0     170.0\n",
            "29   2017            Sawi       347.0   25962.0\n"
          ],
          "name": "stdout"
        }
      ]
    },
    {
      "cell_type": "markdown",
      "metadata": {
        "id": "B5rbD0hTXh3A"
      },
      "source": [
        ""
      ]
    },
    {
      "cell_type": "code",
      "metadata": {
        "colab": {
          "base_uri": "https://localhost:8080/"
        },
        "id": "AYuQ8ZovQhON",
        "outputId": "d10f8399-2626-4e94-b458-e9d84e57ad82"
      },
      "source": [
        "for i in usageData:\n",
        "  if usageData[i].isna().values.any():\n",
        "    usageData[i] = usageData[i].fillna(usageData[i].mean())\n",
        "\n",
        "print(usageData)"
      ],
      "execution_count": null,
      "outputs": [
        {
          "output_type": "stream",
          "text": [
            "    tahun   jenis_tanaman   luas_panen   produksi\n",
            "0    2013           Bayam   557.000000     957.00\n",
            "1    2013        Kangkung  1016.000000    5057.00\n",
            "2    2013  Kacang Panjang     2.000000       8.00\n",
            "3    2013         Ketimun     9.000000      23.00\n",
            "4    2013          Terung     4.000000      15.00\n",
            "5    2013            Sawi   440.000000    3068.00\n",
            "6    2014           Bayam   558.000000    2246.00\n",
            "7    2014        Kangkung   778.000000    5272.00\n",
            "8    2014  Kacang Panjang     6.000000       7.00\n",
            "9    2014         Ketimun    37.000000      16.00\n",
            "10   2014          Terung     2.000000       5.00\n",
            "11   2014            Sawi   407.000000    2916.00\n",
            "12   2015           Bayam   710.000000   56999.00\n",
            "13   2015        Kangkung  1062.000000  102229.00\n",
            "14   2015  Kacang Panjang     4.000000      16.00\n",
            "15   2015         Ketimun    14.000000     226.00\n",
            "16   2015          Terung   351.071429   17681.25\n",
            "17   2015            Sawi   525.000000   46886.00\n",
            "18   2016           Bayam   696.000000   48428.00\n",
            "19   2016        Kangkung   913.000000   66027.00\n",
            "20   2016  Kacang Panjang     1.000000      20.00\n",
            "21   2016         Ketimun     5.000000      20.00\n",
            "22   2016          Terung     5.000000     160.00\n",
            "23   2016            Sawi   464.000000   33965.00\n",
            "24   2017           Bayam   513.000000   36125.00\n",
            "25   2017        Kangkung   751.000000   58246.00\n",
            "26   2017  Kacang Panjang   351.071429   17681.25\n",
            "27   2017         Ketimun     3.000000       6.00\n",
            "28   2017          Terung     1.000000     170.00\n",
            "29   2017            Sawi   347.000000   25962.00\n"
          ],
          "name": "stdout"
        },
        {
          "output_type": "stream",
          "text": [
            "/usr/local/lib/python3.7/dist-packages/ipykernel_launcher.py:3: SettingWithCopyWarning: \n",
            "A value is trying to be set on a copy of a slice from a DataFrame.\n",
            "Try using .loc[row_indexer,col_indexer] = value instead\n",
            "\n",
            "See the caveats in the documentation: https://pandas.pydata.org/pandas-docs/stable/user_guide/indexing.html#returning-a-view-versus-a-copy\n",
            "  This is separate from the ipykernel package so we can avoid doing imports until\n"
          ],
          "name": "stderr"
        }
      ]
    },
    {
      "cell_type": "code",
      "metadata": {
        "colab": {
          "base_uri": "https://localhost:8080/",
          "height": 280
        },
        "id": "l5L-ZHaPRQmA",
        "outputId": "7d9beea2-c418-4b63-c3b4-b5eb170c3d90"
      },
      "source": [
        "plt.scatter(usageData[\"luas_panen\"], usageData[\"produksi\"], color=\"blue\")\n",
        "plt.xlabel(\"luas_panen (ha)\")\n",
        "plt.ylabel(\"produksi (kw)\")\n",
        "plt.show()"
      ],
      "execution_count": null,
      "outputs": [
        {
          "output_type": "display_data",
          "data": {
            "image/png": "[encoded data removed]",
            "text/plain": [
              "<Figure size 432x288 with 1 Axes>"
            ]
          },
          "metadata": {
            "tags": [],
            "needs_background": "light"
          }
        }
      ]
    },
    {
      "cell_type": "code",
      "metadata": {
        "colab": {
          "base_uri": "https://localhost:8080/",
          "height": 270
        },
        "id": "5hiibrPmwh6f",
        "outputId": "4dec40eb-cfda-4f98-a9ae-48b3eac81dfb"
      },
      "source": [
        "corr_matrix = usageData.corr()\n",
        "sb.heatmap(data=corr_matrix, annot=True)\n",
        "plt.show()"
      ],
      "execution_count": null,
      "outputs": [
        {
          "output_type": "display_data",
          "data": {
            "image/png": "[encoded data removed]",
            "text/plain": [
              "<Figure size 432x288 with 2 Axes>"
            ]
          },
          "metadata": {
            "tags": [],
            "needs_background": "light"
          }
        }
      ]
    },
    {
      "cell_type": "code",
      "metadata": {
        "colab": {
          "base_uri": "https://localhost:8080/"
        },
        "id": "0BRQujQ3aWCx",
        "outputId": "297d3eeb-2acd-43be-9308-8883e18915f8"
      },
      "source": [
        "train, test = train_test_split(usageData, test_size = 0.5)\n",
        "regression = linear_model.LinearRegression()\n",
        "regression.fit(train[[\"luas_panen\"]], train[[\"produksi\"]])\n",
        "print('Coefficients: ', regression.coef_)\n",
        "print('Intercept: ', regression.intercept_)"
      ],
      "execution_count": null,
      "outputs": [
        {
          "output_type": "stream",
          "text": [
            "Coefficients:  [[67.62949835]]\n",
            "Intercept:  [-6595.30864393]\n"
          ],
          "name": "stdout"
        }
      ]
    },
    {
      "cell_type": "code",
      "metadata": {
        "colab": {
          "base_uri": "https://localhost:8080/",
          "height": 279
        },
        "id": "g9wEWHJnarDu",
        "outputId": "66fc42e2-aa06-4f06-9db3-c04265c64e76"
      },
      "source": [
        "plt.scatter(train[\"luas_panen\"], train[\"produksi\"], color = 'blue')\n",
        "plt.plot(train[[\"luas_panen\"]], regression.coef_ * train[[\"luas_panen\"]] + regression.intercept_, '-r')\n",
        "plt.xlabel(\"Luas Panen (ha)\")\n",
        "plt.ylabel(\"Produksi (kw)\")\n",
        "plt.rcParams[\"figure.figsize\"] = [8,8]\n",
        "plt.show()"
      ],
      "execution_count": null,
      "outputs": [
        {
          "output_type": "display_data",
          "data": {
            "image/png": "[encoded data removed]",
            "text/plain": [
              "<Figure size 432x288 with 1 Axes>"
            ]
          },
          "metadata": {
            "tags": [],
            "needs_background": "light"
          }
        }
      ]
    }
  ]
}